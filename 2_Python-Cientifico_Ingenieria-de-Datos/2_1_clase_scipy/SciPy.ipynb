{
 "cells": [
  {
   "cell_type": "code",
   "execution_count": null,
   "metadata": {},
   "outputs": [],
   "source": [
    "import numpy as np\n",
    "import matplotlib.pyplot as plt"
   ]
  },
  {
   "cell_type": "markdown",
   "metadata": {},
   "source": [
    "# 1.5. Scipy : high-level scientific computing\n",
    "\n",
    "El paquete de Scipy contiene varias herramientas dedicadas a situaciones comunes en el cómputo científico. Cada sub-módulo corresponde a distintas aplicaciones, por ejemplo interpolación, integración, optimización, procesamiento de imagénes, estadística, etc.\n",
    "\n",
    "En su mayoria, las funciones disponibles depende de **NumPy** ( `scipy.cos` en realidad es `np.cos`).\n",
    "\n",
    "### Módulos más populares:\n",
    "https://docs.scipy.org/doc/scipy/reference/py-modindex.html\n",
    "\n",
    "Sub-module | Task\n",
    "--------|------\n",
    "scipy.cluster | Vector quantization / Kmeans\n",
    "scipy.constants | Physical and mathematical constants\n",
    "scipy.fftpack | Fourier transform\n",
    "scipy.integrate | Integration routines\n",
    "scipy.interpolate | Interpolation\n",
    "scipy.io | Data input and output\n",
    "scipy.linalg | Linear algebra routines\n",
    "scipy.ndimage | n-dimensional image package\n",
    "scipy.odr | Orthogonal distance regression\n",
    "scipy.optimize | Optimization\n",
    "scipy.signal | Signal processing\n",
    "scipy.sparse | Sparse matrices\n",
    "scipy.spatial | Spatial data structures and algorithms\n",
    "scipy.special | Any special mathematical functions\n",
    "scipy.stats | Statistics\n",
    "\n",
    "\n",
    "## Interpolación - `scipy.interpolate`\n",
    "\n",
    "Imaginemos que tenemos datos de un experimento y la salida es parecida a una función senoidal:"
   ]
  },
  {
   "cell_type": "code",
   "execution_count": null,
   "metadata": {},
   "outputs": [],
   "source": [
    "measured_time = np.linspace(0, 1, 10)\n",
    "measured_time"
   ]
  },
  {
   "cell_type": "code",
   "execution_count": null,
   "metadata": {},
   "outputs": [],
   "source": [
    "noise = (np.random.random(10)*2 - 1) * 1e-1\n",
    "noise"
   ]
  },
  {
   "cell_type": "code",
   "execution_count": null,
   "metadata": {},
   "outputs": [],
   "source": [
    "measures = np.sin(2 * np.pi * measured_time) + noise\n",
    "measures"
   ]
  },
  {
   "cell_type": "code",
   "execution_count": null,
   "metadata": {},
   "outputs": [],
   "source": [
    "# Interpolate it to new time points\n",
    "\n",
    "from scipy.interpolate import interp1d\n",
    "linear_interp = interp1d(measured_time, measures)"
   ]
  },
  {
   "cell_type": "code",
   "execution_count": null,
   "metadata": {},
   "outputs": [],
   "source": [
    "interpolation_time = np.linspace(0, 1, 50)\n",
    "linear_results = linear_interp(interpolation_time)"
   ]
  },
  {
   "cell_type": "code",
   "execution_count": null,
   "metadata": {},
   "outputs": [],
   "source": [
    "cubic_interp = interp1d(measured_time, measures, kind='cubic')\n",
    "cubic_results = cubic_interp(interpolation_time)"
   ]
  },
  {
   "cell_type": "code",
   "execution_count": null,
   "metadata": {},
   "outputs": [],
   "source": [
    "# Plot the data and the interpolation\n",
    "from matplotlib import pyplot as plt\n",
    "plt.figure(figsize=(6, 4))\n",
    "plt.plot(measured_time, measures, 'o', ms=6, label='measures')\n",
    "plt.plot(interpolation_time, linear_results, label='linear interp')\n",
    "plt.plot(interpolation_time, cubic_results, label='cubic interp')\n",
    "plt.legend()\n",
    "plt.show()"
   ]
  },
  {
   "cell_type": "markdown",
   "metadata": {},
   "source": [
    "**Hablando sobre Ciencia de Datos, bajo qué situaciones es útil interpolar datos?**\n",
    "\n",
    "---\n",
    "\n",
    "## Estadística ` scipy.stats`\n",
    "\n",
    "El módulo `stats` contiene las herramientas de Estadística y Probabilidad para describir eventos o procesos.\n",
    "\n",
    "### Distribuciones.\n",
    "\n",
    "Dadas las obsercaciones de un proceso aleatorio, su histograma es un estimador de su PDF (FPD, Función de densidad de probabilidad):"
   ]
  },
  {
   "cell_type": "code",
   "execution_count": null,
   "metadata": {},
   "outputs": [],
   "source": [
    "samples = np.random.normal(size=1000)\n",
    "bins = np.arange(-4, 5)\n",
    "bins"
   ]
  },
  {
   "cell_type": "code",
   "execution_count": null,
   "metadata": {},
   "outputs": [],
   "source": [
    "histogram = np.histogram(samples, bins=bins, normed=True)[0]\n",
    "bins = 0.5*(bins[1:] + bins[:-1])\n",
    "bins"
   ]
  },
  {
   "cell_type": "code",
   "execution_count": null,
   "metadata": {},
   "outputs": [],
   "source": [
    "from scipy import stats\n",
    "pdf = stats.norm.pdf(bins)"
   ]
  },
  {
   "cell_type": "code",
   "execution_count": null,
   "metadata": {},
   "outputs": [],
   "source": [
    "plt.plot(bins, histogram, label=\"Histogram of samples\");\n",
    "plt.plot(bins, pdf, label=\"PDF\") \n",
    "plt.legend()\n",
    "plt.show()b"
   ]
  },
  {
   "cell_type": "code",
   "execution_count": null,
   "metadata": {},
   "outputs": [],
   "source": [
    "### Media, mediana, percentiles:"
   ]
  },
  {
   "cell_type": "code",
   "execution_count": null,
   "metadata": {},
   "outputs": [],
   "source": []
  }
 ],
 "metadata": {
  "kernelspec": {
   "display_name": "Python 3",
   "language": "python",
   "name": "python3"
  },
  "language_info": {
   "codemirror_mode": {
    "name": "ipython",
    "version": 3
   },
   "file_extension": ".py",
   "mimetype": "text/x-python",
   "name": "python",
   "nbconvert_exporter": "python",
   "pygments_lexer": "ipython3",
   "version": "3.7.0"
  }
 },
 "nbformat": 4,
 "nbformat_minor": 2
}
